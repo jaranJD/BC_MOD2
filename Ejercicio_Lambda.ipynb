{
 "cells": [
  {
   "cell_type": "markdown",
   "metadata": {
    "id": "SsC8XMl8_THX"
   },
   "source": [
    "# Uso de expresiones lambda en listas por comprensión\n",
    "\n",
    "En el siguiente desafío, combinaremos dos listas utilizando una expresión lambda en una lista por comprensión.\n",
    "\n",
    "Para ello, necesitaremos introducir la función `zip`. La función `zip` devuelve un iterador de tuplas.\n",
    "\n",
    "A continuación se muestra cómo funciona la función zip con listas:"
   ]
  },
  {
   "cell_type": "code",
   "execution_count": null,
   "metadata": {
    "id": "a7CbJwzq_THY",
    "outputId": "79de5a80-b336-4225-d855-0947275df420"
   },
   "outputs": [
    {
     "data": {
      "text/plain": [
       "[('Green', 'eggs'),\n",
       " ('cheese', 'cheese'),\n",
       " ('English', 'cucumber'),\n",
       " ('tomato', 'tomato')]"
      ]
     },
     "execution_count": 1,
     "metadata": {},
     "output_type": "execute_result"
    }
   ],
   "source": [
    "list1 = ['Green', 'cheese', 'English', 'tomato']\n",
    "list2 = ['eggs', 'cheese', 'cucumber', 'tomato']\n",
    "zipped = zip(list1,list2)\n",
    "list(zipped)"
   ]
  },
  {
   "cell_type": "markdown",
   "metadata": {
    "id": "-gdNR-6i_THZ"
   },
   "source": [
    "En este ejercicio intentaremos comparar los elementos del mismo índice en las dos listas.\n",
    "Queremos comprimir las dos listas y luego usar una expresión lambda para comparar si:\n",
    "elemento de la lista1 > elemento de la lista2"
   ]
  },
  {
   "cell_type": "code",
   "execution_count": 29,
   "metadata": {
    "id": "s9ROl70u_THZ"
   },
   "outputs": [],
   "source": [
    "list1 = [1,2,3,10]\n",
    "list2 = [2,3,4,5]\n",
    "zipped = zip(list1,list2)\n",
    "lista3 = list(zipped)"
   ]
  },
  {
   "cell_type": "code",
   "execution_count": 30,
   "metadata": {},
   "outputs": [
    {
     "data": {
      "text/plain": [
       "[(1, 2), (2, 3), (3, 4), (10, 5)]"
      ]
     },
     "execution_count": 30,
     "metadata": {},
     "output_type": "execute_result"
    }
   ],
   "source": [
    "lista3"
   ]
  },
  {
   "cell_type": "code",
   "execution_count": 31,
   "metadata": {},
   "outputs": [
    {
     "name": "stdout",
     "output_type": "stream",
     "text": [
      "False\n",
      "False\n",
      "False\n",
      "True\n"
     ]
    }
   ],
   "source": [
    "for i,j in lista3:\n",
    "    if i > j:\n",
    "        print(\"True\")\n",
    "    else:\n",
    "        print(\"False\")"
   ]
  },
  {
   "cell_type": "code",
   "execution_count": 38,
   "metadata": {},
   "outputs": [
    {
     "name": "stdout",
     "output_type": "stream",
     "text": [
      "False\n",
      "False\n",
      "False\n",
      "True\n"
     ]
    }
   ],
   "source": [
    "compara = lambda i, j: \"True\" if i > j else \"False\"\n",
    "for i,j in zip(list1,list2):\n",
    "    print(compara(i,j))\n"
   ]
  },
  {
   "cell_type": "code",
   "execution_count": 41,
   "metadata": {},
   "outputs": [
    {
     "name": "stdout",
     "output_type": "stream",
     "text": [
      "['F', 'a', 'l', 's', 'e']\n",
      "['F', 'a', 'l', 's', 'e']\n",
      "['F', 'a', 'l', 's', 'e']\n",
      "['T', 'r', 'u', 'e']\n"
     ]
    }
   ],
   "source": [
    "compara = lambda i, j: \"True\" if i > j else \"False\"\n",
    "for i,j in zip(list1,list2):\n",
    "    lista4 = list(compara(i,j))\n",
    "    print(lista4)\n"
   ]
  },
  {
   "cell_type": "code",
   "execution_count": 42,
   "metadata": {},
   "outputs": [
    {
     "data": {
      "text/plain": [
       "['False', 'False', 'False', 'True']"
      ]
     },
     "execution_count": 42,
     "metadata": {},
     "output_type": "execute_result"
    }
   ],
   "source": [
    "compara = lambda i, j: \"True\" if i > j else \"False\"\n",
    "[compara(i,j) for i,j in zip(list1,list2)]"
   ]
  },
  {
   "cell_type": "code",
   "execution_count": 44,
   "metadata": {},
   "outputs": [
    {
     "data": {
      "text/plain": [
       "['False', 'False', 'False', 'True']"
      ]
     },
     "execution_count": 44,
     "metadata": {},
     "output_type": "execute_result"
    }
   ],
   "source": [
    "compara = lambda i, j: \"True\" if i > j else \"False\"\n",
    "lista_vacia = []\n",
    "for i,j in zip(list1,list2):\n",
    "    lista_vacia.append(compara(i,j))\n",
    "\n",
    "lista_vacia"
   ]
  },
  {
   "cell_type": "code",
   "execution_count": null,
   "metadata": {},
   "outputs": [],
   "source": []
  }
 ],
 "metadata": {
  "colab": {
   "provenance": []
  },
  "kernelspec": {
   "display_name": "Python 3 (ipykernel)",
   "language": "python",
   "name": "python3"
  },
  "language_info": {
   "codemirror_mode": {
    "name": "ipython",
    "version": 3
   },
   "file_extension": ".py",
   "mimetype": "text/x-python",
   "name": "python",
   "nbconvert_exporter": "python",
   "pygments_lexer": "ipython3",
   "version": "3.12.3"
  }
 },
 "nbformat": 4,
 "nbformat_minor": 4
}
